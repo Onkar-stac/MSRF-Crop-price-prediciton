{
 "cells": [
  {
   "cell_type": "code",
   "execution_count": 17,
   "id": "bd5e522a",
   "metadata": {},
   "outputs": [],
   "source": [
    "import pandas as pd\n",
    "import numpy as np\n",
    "import xgboost as xgb\n",
    "from sklearn.preprocessing import StandardScaler\n",
    "from sklearn.pipeline import Pipeline\n",
    "from sklearn.model_selection import RandomizedSearchCV\n",
    "from sklearn.model_selection import train_test_split\n",
    "from sklearn.preprocessing import LabelEncoder,OneHotEncoder\n",
    "from sklearn.metrics import accuracy_score\n",
    "from sklearn.ensemble import RandomForestRegressor"
   ]
  },
  {
   "cell_type": "code",
   "execution_count": 2,
   "id": "eebac4f6",
   "metadata": {
    "scrolled": true
   },
   "outputs": [
    {
     "data": {
      "text/html": [
       "<div>\n",
       "<style scoped>\n",
       "    .dataframe tbody tr th:only-of-type {\n",
       "        vertical-align: middle;\n",
       "    }\n",
       "\n",
       "    .dataframe tbody tr th {\n",
       "        vertical-align: top;\n",
       "    }\n",
       "\n",
       "    .dataframe thead th {\n",
       "        text-align: right;\n",
       "    }\n",
       "</style>\n",
       "<table border=\"1\" class=\"dataframe\">\n",
       "  <thead>\n",
       "    <tr style=\"text-align: right;\">\n",
       "      <th></th>\n",
       "      <th>state</th>\n",
       "      <th>district</th>\n",
       "      <th>market</th>\n",
       "      <th>commodity</th>\n",
       "      <th>variety</th>\n",
       "      <th>arrival_date</th>\n",
       "      <th>min_price</th>\n",
       "      <th>max_price</th>\n",
       "      <th>modal_price</th>\n",
       "    </tr>\n",
       "  </thead>\n",
       "  <tbody>\n",
       "    <tr>\n",
       "      <th>0</th>\n",
       "      <td>Andaman and Nicobar</td>\n",
       "      <td>South Andaman</td>\n",
       "      <td>Port Blair</td>\n",
       "      <td>Amaranthus</td>\n",
       "      <td>Amaranthus</td>\n",
       "      <td>04/03/2019</td>\n",
       "      <td>6000</td>\n",
       "      <td>8000</td>\n",
       "      <td>7000</td>\n",
       "    </tr>\n",
       "    <tr>\n",
       "      <th>1</th>\n",
       "      <td>Andaman and Nicobar</td>\n",
       "      <td>South Andaman</td>\n",
       "      <td>Port Blair</td>\n",
       "      <td>Banana - Green</td>\n",
       "      <td>Banana - Green</td>\n",
       "      <td>04/03/2019</td>\n",
       "      <td>4500</td>\n",
       "      <td>5500</td>\n",
       "      <td>5000</td>\n",
       "    </tr>\n",
       "    <tr>\n",
       "      <th>2</th>\n",
       "      <td>Andaman and Nicobar</td>\n",
       "      <td>South Andaman</td>\n",
       "      <td>Port Blair</td>\n",
       "      <td>Bhindi(Ladies Finger)</td>\n",
       "      <td>Bhindi</td>\n",
       "      <td>04/03/2019</td>\n",
       "      <td>6000</td>\n",
       "      <td>8000</td>\n",
       "      <td>7000</td>\n",
       "    </tr>\n",
       "    <tr>\n",
       "      <th>3</th>\n",
       "      <td>Andaman and Nicobar</td>\n",
       "      <td>South Andaman</td>\n",
       "      <td>Port Blair</td>\n",
       "      <td>Bitter gourd</td>\n",
       "      <td>Other</td>\n",
       "      <td>04/03/2019</td>\n",
       "      <td>6000</td>\n",
       "      <td>8000</td>\n",
       "      <td>7000</td>\n",
       "    </tr>\n",
       "    <tr>\n",
       "      <th>4</th>\n",
       "      <td>Andaman and Nicobar</td>\n",
       "      <td>South Andaman</td>\n",
       "      <td>Port Blair</td>\n",
       "      <td>Black pepper</td>\n",
       "      <td>Other</td>\n",
       "      <td>04/03/2019</td>\n",
       "      <td>110000</td>\n",
       "      <td>130000</td>\n",
       "      <td>120000</td>\n",
       "    </tr>\n",
       "    <tr>\n",
       "      <th>5</th>\n",
       "      <td>Andaman and Nicobar</td>\n",
       "      <td>South Andaman</td>\n",
       "      <td>Port Blair</td>\n",
       "      <td>Bottle gourd</td>\n",
       "      <td>Other</td>\n",
       "      <td>04/03/2019</td>\n",
       "      <td>3000</td>\n",
       "      <td>4000</td>\n",
       "      <td>3500</td>\n",
       "    </tr>\n",
       "    <tr>\n",
       "      <th>6</th>\n",
       "      <td>Andaman and Nicobar</td>\n",
       "      <td>South Andaman</td>\n",
       "      <td>Port Blair</td>\n",
       "      <td>Brinjal</td>\n",
       "      <td>Other</td>\n",
       "      <td>04/03/2019</td>\n",
       "      <td>7000</td>\n",
       "      <td>8000</td>\n",
       "      <td>7500</td>\n",
       "    </tr>\n",
       "    <tr>\n",
       "      <th>7</th>\n",
       "      <td>Andaman and Nicobar</td>\n",
       "      <td>South Andaman</td>\n",
       "      <td>Port Blair</td>\n",
       "      <td>Cabbage</td>\n",
       "      <td>Other</td>\n",
       "      <td>04/03/2019</td>\n",
       "      <td>6000</td>\n",
       "      <td>7000</td>\n",
       "      <td>6500</td>\n",
       "    </tr>\n",
       "    <tr>\n",
       "      <th>8</th>\n",
       "      <td>Andaman and Nicobar</td>\n",
       "      <td>South Andaman</td>\n",
       "      <td>Port Blair</td>\n",
       "      <td>Carrot</td>\n",
       "      <td>Other</td>\n",
       "      <td>04/03/2019</td>\n",
       "      <td>9000</td>\n",
       "      <td>11000</td>\n",
       "      <td>10000</td>\n",
       "    </tr>\n",
       "    <tr>\n",
       "      <th>9</th>\n",
       "      <td>Andaman and Nicobar</td>\n",
       "      <td>South Andaman</td>\n",
       "      <td>Port Blair</td>\n",
       "      <td>Cauliflower</td>\n",
       "      <td>Other</td>\n",
       "      <td>04/03/2019</td>\n",
       "      <td>10000</td>\n",
       "      <td>12000</td>\n",
       "      <td>11000</td>\n",
       "    </tr>\n",
       "  </tbody>\n",
       "</table>\n",
       "</div>"
      ],
      "text/plain": [
       "                 state       district      market              commodity  \\\n",
       "0  Andaman and Nicobar  South Andaman  Port Blair             Amaranthus   \n",
       "1  Andaman and Nicobar  South Andaman  Port Blair         Banana - Green   \n",
       "2  Andaman and Nicobar  South Andaman  Port Blair  Bhindi(Ladies Finger)   \n",
       "3  Andaman and Nicobar  South Andaman  Port Blair           Bitter gourd   \n",
       "4  Andaman and Nicobar  South Andaman  Port Blair           Black pepper   \n",
       "5  Andaman and Nicobar  South Andaman  Port Blair           Bottle gourd   \n",
       "6  Andaman and Nicobar  South Andaman  Port Blair                Brinjal   \n",
       "7  Andaman and Nicobar  South Andaman  Port Blair                Cabbage   \n",
       "8  Andaman and Nicobar  South Andaman  Port Blair                 Carrot   \n",
       "9  Andaman and Nicobar  South Andaman  Port Blair            Cauliflower   \n",
       "\n",
       "          variety arrival_date  min_price  max_price  modal_price  \n",
       "0      Amaranthus   04/03/2019       6000       8000         7000  \n",
       "1  Banana - Green   04/03/2019       4500       5500         5000  \n",
       "2          Bhindi   04/03/2019       6000       8000         7000  \n",
       "3           Other   04/03/2019       6000       8000         7000  \n",
       "4           Other   04/03/2019     110000     130000       120000  \n",
       "5           Other   04/03/2019       3000       4000         3500  \n",
       "6           Other   04/03/2019       7000       8000         7500  \n",
       "7           Other   04/03/2019       6000       7000         6500  \n",
       "8           Other   04/03/2019       9000      11000        10000  \n",
       "9           Other   04/03/2019      10000      12000        11000  "
      ]
     },
     "execution_count": 2,
     "metadata": {},
     "output_type": "execute_result"
    }
   ],
   "source": [
    "data = pd.read_csv(\"D:/machine learning/datasets/agri.csv\")\n",
    "data.head(10)"
   ]
  },
  {
   "cell_type": "code",
   "execution_count": 3,
   "id": "50eb114a",
   "metadata": {},
   "outputs": [],
   "source": [
    "data = data.dropna()"
   ]
  },
  {
   "cell_type": "code",
   "execution_count": 34,
   "id": "4ab58d7f",
   "metadata": {},
   "outputs": [
    {
     "name": "stdout",
     "output_type": "stream",
     "text": [
      "<class 'pandas.core.frame.DataFrame'>\n",
      "Int64Index: 2238 entries, 0 to 2237\n",
      "Data columns (total 9 columns):\n",
      " #   Column        Non-Null Count  Dtype  \n",
      "---  ------        --------------  -----  \n",
      " 0   state         2238 non-null   object \n",
      " 1   district      2238 non-null   object \n",
      " 2   market        2238 non-null   object \n",
      " 3   commodity     2238 non-null   object \n",
      " 4   variety       2238 non-null   object \n",
      " 5   arrival_date  2238 non-null   object \n",
      " 6   min_price     2238 non-null   float64\n",
      " 7   max_price     2238 non-null   float64\n",
      " 8   modal_price   2238 non-null   float64\n",
      "dtypes: float64(3), object(6)\n",
      "memory usage: 174.8+ KB\n"
     ]
    }
   ],
   "source": [
    "data.info()"
   ]
  },
  {
   "cell_type": "code",
   "execution_count": 4,
   "id": "eb2bdd76",
   "metadata": {},
   "outputs": [],
   "source": [
    "data['min_price'] = data['min_price']/100\n",
    "data['max_price'] = data['max_price']/100\n",
    "data['modal_price'] = data['modal_price'] / 100"
   ]
  },
  {
   "cell_type": "code",
   "execution_count": 5,
   "id": "0673c4c2",
   "metadata": {},
   "outputs": [
    {
     "data": {
      "text/html": [
       "<div>\n",
       "<style scoped>\n",
       "    .dataframe tbody tr th:only-of-type {\n",
       "        vertical-align: middle;\n",
       "    }\n",
       "\n",
       "    .dataframe tbody tr th {\n",
       "        vertical-align: top;\n",
       "    }\n",
       "\n",
       "    .dataframe thead th {\n",
       "        text-align: right;\n",
       "    }\n",
       "</style>\n",
       "<table border=\"1\" class=\"dataframe\">\n",
       "  <thead>\n",
       "    <tr style=\"text-align: right;\">\n",
       "      <th></th>\n",
       "      <th>state</th>\n",
       "      <th>district</th>\n",
       "      <th>market</th>\n",
       "      <th>commodity</th>\n",
       "      <th>variety</th>\n",
       "      <th>arrival_date</th>\n",
       "      <th>min_price</th>\n",
       "      <th>max_price</th>\n",
       "      <th>modal_price</th>\n",
       "    </tr>\n",
       "  </thead>\n",
       "  <tbody>\n",
       "    <tr>\n",
       "      <th>0</th>\n",
       "      <td>Andaman and Nicobar</td>\n",
       "      <td>South Andaman</td>\n",
       "      <td>Port Blair</td>\n",
       "      <td>Amaranthus</td>\n",
       "      <td>Amaranthus</td>\n",
       "      <td>04/03/2019</td>\n",
       "      <td>60.0</td>\n",
       "      <td>80.0</td>\n",
       "      <td>70.0</td>\n",
       "    </tr>\n",
       "    <tr>\n",
       "      <th>1</th>\n",
       "      <td>Andaman and Nicobar</td>\n",
       "      <td>South Andaman</td>\n",
       "      <td>Port Blair</td>\n",
       "      <td>Banana - Green</td>\n",
       "      <td>Banana - Green</td>\n",
       "      <td>04/03/2019</td>\n",
       "      <td>45.0</td>\n",
       "      <td>55.0</td>\n",
       "      <td>50.0</td>\n",
       "    </tr>\n",
       "    <tr>\n",
       "      <th>2</th>\n",
       "      <td>Andaman and Nicobar</td>\n",
       "      <td>South Andaman</td>\n",
       "      <td>Port Blair</td>\n",
       "      <td>Bhindi(Ladies Finger)</td>\n",
       "      <td>Bhindi</td>\n",
       "      <td>04/03/2019</td>\n",
       "      <td>60.0</td>\n",
       "      <td>80.0</td>\n",
       "      <td>70.0</td>\n",
       "    </tr>\n",
       "    <tr>\n",
       "      <th>3</th>\n",
       "      <td>Andaman and Nicobar</td>\n",
       "      <td>South Andaman</td>\n",
       "      <td>Port Blair</td>\n",
       "      <td>Bitter gourd</td>\n",
       "      <td>Other</td>\n",
       "      <td>04/03/2019</td>\n",
       "      <td>60.0</td>\n",
       "      <td>80.0</td>\n",
       "      <td>70.0</td>\n",
       "    </tr>\n",
       "    <tr>\n",
       "      <th>4</th>\n",
       "      <td>Andaman and Nicobar</td>\n",
       "      <td>South Andaman</td>\n",
       "      <td>Port Blair</td>\n",
       "      <td>Black pepper</td>\n",
       "      <td>Other</td>\n",
       "      <td>04/03/2019</td>\n",
       "      <td>1100.0</td>\n",
       "      <td>1300.0</td>\n",
       "      <td>1200.0</td>\n",
       "    </tr>\n",
       "  </tbody>\n",
       "</table>\n",
       "</div>"
      ],
      "text/plain": [
       "                 state       district      market              commodity  \\\n",
       "0  Andaman and Nicobar  South Andaman  Port Blair             Amaranthus   \n",
       "1  Andaman and Nicobar  South Andaman  Port Blair         Banana - Green   \n",
       "2  Andaman and Nicobar  South Andaman  Port Blair  Bhindi(Ladies Finger)   \n",
       "3  Andaman and Nicobar  South Andaman  Port Blair           Bitter gourd   \n",
       "4  Andaman and Nicobar  South Andaman  Port Blair           Black pepper   \n",
       "\n",
       "          variety arrival_date  min_price  max_price  modal_price  \n",
       "0      Amaranthus   04/03/2019       60.0       80.0         70.0  \n",
       "1  Banana - Green   04/03/2019       45.0       55.0         50.0  \n",
       "2          Bhindi   04/03/2019       60.0       80.0         70.0  \n",
       "3           Other   04/03/2019       60.0       80.0         70.0  \n",
       "4           Other   04/03/2019     1100.0     1300.0       1200.0  "
      ]
     },
     "execution_count": 5,
     "metadata": {},
     "output_type": "execute_result"
    }
   ],
   "source": [
    "data.head()"
   ]
  },
  {
   "cell_type": "code",
   "execution_count": 13,
   "id": "cce95f19",
   "metadata": {},
   "outputs": [],
   "source": [
    "X1 = data.iloc[:,:8]"
   ]
  },
  {
   "cell_type": "code",
   "execution_count": 16,
   "id": "69ede645",
   "metadata": {},
   "outputs": [],
   "source": [
    "Y1 = data['modal_price']"
   ]
  },
  {
   "cell_type": "code",
   "execution_count": 49,
   "id": "7a476fc3",
   "metadata": {},
   "outputs": [
    {
     "name": "stderr",
     "output_type": "stream",
     "text": [
      "C:\\Users\\Admin\\AppData\\Local\\Temp\\ipykernel_2436\\1597142809.py:6: SettingWithCopyWarning: \n",
      "A value is trying to be set on a copy of a slice from a DataFrame.\n",
      "Try using .loc[row_indexer,col_indexer] = value instead\n",
      "\n",
      "See the caveats in the documentation: https://pandas.pydata.org/pandas-docs/stable/user_guide/indexing.html#returning-a-view-versus-a-copy\n",
      "  X[cat_cols] = X[cat_cols].apply(lambda x:le.fit_transform(x))\n"
     ]
    }
   ],
   "source": [
    "X = data[['commodity','min_price','max_price']]\n",
    "Y = data['modal_price']\n",
    "cat_mask = (X.dtypes==object)\n",
    "cat_cols = X.columns[cat_mask].tolist()\n",
    "le = LabelEncoder()\n",
    "X[cat_cols] = X[cat_cols].apply(lambda x:le.fit_transform(x))"
   ]
  },
  {
   "cell_type": "code",
   "execution_count": 50,
   "id": "fcb22c4a",
   "metadata": {},
   "outputs": [],
   "source": [
    "X_train,X_test,Y_train,Y_test = train_test_split(X,Y,test_size=0.2,random_state=42)"
   ]
  },
  {
   "cell_type": "code",
   "execution_count": 53,
   "id": "3f2247a5",
   "metadata": {},
   "outputs": [],
   "source": [
    "def xgb_model():\n",
    "    st = StandardScaler()\n",
    "    xgb_reg = xgb.XGBRegressor()\n",
    "    steps = [('scaler',st),('model',xgb_reg)]\n",
    "    xgb_pipeline = Pipeline(steps)\n",
    "    \n",
    "    param = {\n",
    "        'model__subsample' : np.arange(0.05,1.05),\n",
    "        'model__max_depth': np.arange(3,20,1),\n",
    "        'model__colsample_bytree':np.arange(.1,1.05,.05),\n",
    "        'model__learning_rate': np.arange(0,1,.1)\n",
    "    }\n",
    "    rand = RandomizedSearchCV(estimator=xgb_pipeline,param_distributions = param,n_iter=3,scoring='neg_mean_squared_error',cv=4)\n",
    "    rand.fit(X_train,Y_train)\n",
    "    model = rand.best_estimator_\n",
    "    return model"
   ]
  },
  {
   "cell_type": "code",
   "execution_count": 9,
   "id": "f25dfdbf",
   "metadata": {},
   "outputs": [],
   "source": [
    "model = xgb_model()"
   ]
  },
  {
   "cell_type": "code",
   "execution_count": 24,
   "id": "64963f33",
   "metadata": {},
   "outputs": [
    {
     "data": {
      "text/plain": [
       "Pipeline(steps=[('scaler', StandardScaler()),\n",
       "                ('model',\n",
       "                 XGBRegressor(base_score=0.5, booster='gbtree',\n",
       "                              colsample_bylevel=1, colsample_bynode=1,\n",
       "                              colsample_bytree=0.7500000000000002,\n",
       "                              enable_categorical=False, gamma=0, gpu_id=-1,\n",
       "                              importance_type=None, interaction_constraints='',\n",
       "                              learning_rate=0.1, max_delta_step=0, max_depth=4,\n",
       "                              min_child_weight=1, missing=nan,\n",
       "                              monotone_constraints='()', n_estimators=100,\n",
       "                              n_jobs=8, num_parallel_tree=1, predictor='auto',\n",
       "                              random_state=0, reg_alpha=0, reg_lambda=1,\n",
       "                              scale_pos_weight=1, subsample=0.05,\n",
       "                              tree_method='exact', validate_parameters=1,\n",
       "                              verbosity=None))])"
      ]
     },
     "execution_count": 24,
     "metadata": {},
     "output_type": "execute_result"
    }
   ],
   "source": [
    "model.fit(X_train,Y_train)"
   ]
  },
  {
   "cell_type": "code",
   "execution_count": 25,
   "id": "40688cf8",
   "metadata": {},
   "outputs": [
    {
     "data": {
      "text/plain": [
       "0.9765838343922122"
      ]
     },
     "execution_count": 25,
     "metadata": {},
     "output_type": "execute_result"
    }
   ],
   "source": [
    "model.score(X_test,Y_test)"
   ]
  },
  {
   "cell_type": "code",
   "execution_count": 52,
   "id": "d2380c55",
   "metadata": {},
   "outputs": [],
   "source": [
    "model1 = xgb_model()"
   ]
  },
  {
   "cell_type": "code",
   "execution_count": 53,
   "id": "eee869a8",
   "metadata": {},
   "outputs": [
    {
     "data": {
      "text/plain": [
       "Pipeline(steps=[('scaler', StandardScaler()),\n",
       "                ('model',\n",
       "                 XGBRegressor(base_score=0.5, booster='gbtree',\n",
       "                              colsample_bylevel=1, colsample_bynode=1,\n",
       "                              colsample_bytree=0.3500000000000001,\n",
       "                              enable_categorical=False, gamma=0, gpu_id=-1,\n",
       "                              importance_type=None, interaction_constraints='',\n",
       "                              learning_rate=0.30000000000000004,\n",
       "                              max_delta_step=0, max_depth=17,\n",
       "                              min_child_weight=1, missing=nan,\n",
       "                              monotone_constraints='()', n_estimators=100,\n",
       "                              n_jobs=8, num_parallel_tree=1, predictor='auto',\n",
       "                              random_state=0, reg_alpha=0, reg_lambda=1,\n",
       "                              scale_pos_weight=1, subsample=0.05,\n",
       "                              tree_method='exact', validate_parameters=1,\n",
       "                              verbosity=None))])"
      ]
     },
     "execution_count": 53,
     "metadata": {},
     "output_type": "execute_result"
    }
   ],
   "source": [
    "model1.fit(X_train,Y_train)"
   ]
  },
  {
   "cell_type": "code",
   "execution_count": 54,
   "id": "84db89e0",
   "metadata": {},
   "outputs": [
    {
     "data": {
      "text/plain": [
       "0.42613875719748584"
      ]
     },
     "execution_count": 54,
     "metadata": {},
     "output_type": "execute_result"
    }
   ],
   "source": [
    "model1.score(X_test,Y_test)"
   ]
  },
  {
   "cell_type": "code",
   "execution_count": 40,
   "id": "410ac061",
   "metadata": {},
   "outputs": [],
   "source": []
  },
  {
   "cell_type": "code",
   "execution_count": 57,
   "id": "f18c3913",
   "metadata": {},
   "outputs": [],
   "source": [
    "import pickle"
   ]
  },
  {
   "cell_type": "code",
   "execution_count": 56,
   "id": "58ccddcc",
   "metadata": {},
   "outputs": [],
   "source": []
  },
  {
   "cell_type": "code",
   "execution_count": 57,
   "id": "348960e6",
   "metadata": {},
   "outputs": [],
   "source": []
  },
  {
   "cell_type": "code",
   "execution_count": 28,
   "id": "103e7d67",
   "metadata": {},
   "outputs": [],
   "source": [
    "regressor = deploy['model']\n",
    "le_com = deploy['le_c']"
   ]
  },
  {
   "cell_type": "code",
   "execution_count": 30,
   "id": "158a4f6c",
   "metadata": {},
   "outputs": [],
   "source": [
    "y_pred = regressor.predict(X_test)"
   ]
  },
  {
   "cell_type": "code",
   "execution_count": 32,
   "id": "2d677941",
   "metadata": {},
   "outputs": [
    {
     "data": {
      "text/plain": [
       "1753    5500\n",
       "367     2550\n",
       "1247    3525\n",
       "849     3700\n",
       "1748     700\n",
       "        ... \n",
       "1801    1400\n",
       "178     6300\n",
       "471     2500\n",
       "1456    1770\n",
       "2162     750\n",
       "Name: modal_price, Length: 448, dtype: int64"
      ]
     },
     "execution_count": 32,
     "metadata": {},
     "output_type": "execute_result"
    }
   ],
   "source": [
    "Y_test"
   ]
  },
  {
   "cell_type": "code",
   "execution_count": 18,
   "id": "981bce4f",
   "metadata": {},
   "outputs": [],
   "source": [
    "rf = RandomForestRegressor()"
   ]
  },
  {
   "cell_type": "code",
   "execution_count": 20,
   "id": "051a970a",
   "metadata": {},
   "outputs": [],
   "source": [
    "cat_mask = (X1.dtypes==object)\n",
    "cat_cols = X1.columns[cat_mask].tolist()\n",
    "le = LabelEncoder()\n",
    "X1[cat_cols] = X1[cat_cols].apply(lambda x:le.fit_transform(x))"
   ]
  },
  {
   "cell_type": "code",
   "execution_count": 21,
   "id": "1c780931",
   "metadata": {},
   "outputs": [
    {
     "data": {
      "text/plain": [
       "RandomForestRegressor()"
      ]
     },
     "execution_count": 21,
     "metadata": {},
     "output_type": "execute_result"
    }
   ],
   "source": [
    "rf.fit(X1,Y1)"
   ]
  },
  {
   "cell_type": "code",
   "execution_count": 22,
   "id": "42702c13",
   "metadata": {},
   "outputs": [
    {
     "data": {
      "text/plain": [
       "array([3.04186605e-03, 4.31267865e-04, 4.54409101e-04, 1.34281791e-03,\n",
       "       3.40378241e-04, 0.00000000e+00, 2.63784109e-01, 7.30605152e-01])"
      ]
     },
     "execution_count": 22,
     "metadata": {},
     "output_type": "execute_result"
    }
   ],
   "source": [
    "rf.feature_importances_"
   ]
  },
  {
   "cell_type": "code",
   "execution_count": 23,
   "id": "15cc8ba1",
   "metadata": {},
   "outputs": [],
   "source": [
    "from sklearn.feature_selection import RFE"
   ]
  },
  {
   "cell_type": "code",
   "execution_count": 24,
   "id": "f8ba5317",
   "metadata": {},
   "outputs": [],
   "source": [
    "rfe = RFE(estimator=rf,n_features_to_select = 4, step = 5, verbose=1 )"
   ]
  },
  {
   "cell_type": "code",
   "execution_count": 25,
   "id": "9f4c8927",
   "metadata": {},
   "outputs": [
    {
     "name": "stdout",
     "output_type": "stream",
     "text": [
      "Fitting estimator with 8 features.\n"
     ]
    },
    {
     "data": {
      "text/plain": [
       "RFE(estimator=RandomForestRegressor(), n_features_to_select=4, step=5,\n",
       "    verbose=1)"
      ]
     },
     "execution_count": 25,
     "metadata": {},
     "output_type": "execute_result"
    }
   ],
   "source": [
    "rfe.fit(X1,Y1)"
   ]
  },
  {
   "cell_type": "code",
   "execution_count": 26,
   "id": "68079854",
   "metadata": {},
   "outputs": [
    {
     "data": {
      "text/plain": [
       "array([ True, False, False,  True, False, False,  True,  True])"
      ]
     },
     "execution_count": 26,
     "metadata": {},
     "output_type": "execute_result"
    }
   ],
   "source": [
    "rfe.support_"
   ]
  },
  {
   "cell_type": "code",
   "execution_count": 27,
   "id": "deca7852",
   "metadata": {},
   "outputs": [
    {
     "name": "stderr",
     "output_type": "stream",
     "text": [
      "c:\\users\\admin\\appdata\\local\\programs\\python\\python39\\lib\\site-packages\\pandas\\core\\frame.py:3636: SettingWithCopyWarning: \n",
      "A value is trying to be set on a copy of a slice from a DataFrame.\n",
      "Try using .loc[row_indexer,col_indexer] = value instead\n",
      "\n",
      "See the caveats in the documentation: https://pandas.pydata.org/pandas-docs/stable/user_guide/indexing.html#returning-a-view-versus-a-copy\n",
      "  self[k1] = value[k2]\n"
     ]
    }
   ],
   "source": [
    "Xt = data[['state','commodity']]\n",
    "cat_mask = (Xt.dtypes==object)\n",
    "cat_cols = Xt.columns[cat_mask].tolist()\n",
    "le = LabelEncoder()\n",
    "Xt[cat_cols] = Xt[cat_cols].apply(lambda x:le.fit_transform(x))"
   ]
  },
  {
   "cell_type": "code",
   "execution_count": 29,
   "id": "96df766d",
   "metadata": {},
   "outputs": [],
   "source": [
    "X_t,X_te,Y_t,Y_te = train_test_split(Xt,Y1,test_size=0.2)"
   ]
  },
  {
   "cell_type": "code",
   "execution_count": 30,
   "id": "a1f30350",
   "metadata": {},
   "outputs": [
    {
     "data": {
      "text/plain": [
       "RandomForestRegressor()"
      ]
     },
     "execution_count": 30,
     "metadata": {},
     "output_type": "execute_result"
    }
   ],
   "source": [
    "rf.fit(X_t,Y_t)"
   ]
  },
  {
   "cell_type": "code",
   "execution_count": 31,
   "id": "c6f72653",
   "metadata": {},
   "outputs": [
    {
     "data": {
      "text/plain": [
       "0.6158018774112052"
      ]
     },
     "execution_count": 31,
     "metadata": {},
     "output_type": "execute_result"
    }
   ],
   "source": [
    "rf.score(X_te,Y_te)"
   ]
  },
  {
   "cell_type": "code",
   "execution_count": 32,
   "id": "0445fe88",
   "metadata": {},
   "outputs": [
    {
     "data": {
      "text/plain": [
       "array([4.37245893e+01, 5.09397978e+00, 2.69765534e+01, 2.31323056e+01,\n",
       "       1.20584008e+01, 5.87317358e+00, 4.20586295e+00, 5.09397978e+00,\n",
       "       1.16464213e+01, 5.49301689e+01, 2.29483333e+01, 5.14487316e+01,\n",
       "       1.52815952e+01, 4.36378817e+00, 3.72830609e+01, 5.87317358e+00,\n",
       "       6.16424059e+00, 5.79207132e+00, 3.91161247e+01, 2.88974702e+01,\n",
       "       3.05911427e+01, 7.30392966e+00, 1.38984444e+01, 1.35462358e+01,\n",
       "       1.41320552e+01, 8.57915624e+00, 7.99446667e+00, 1.98486646e+01,\n",
       "       9.70384524e+00, 4.48436667e+00, 2.87258556e+01, 9.70384524e+00,\n",
       "       9.31613575e+00, 3.60447797e+01, 2.16404670e+01, 2.69765534e+01,\n",
       "       9.70384524e+00, 1.66898579e+01, 9.39688001e+00, 1.56627684e+01,\n",
       "       2.56624716e+01, 4.13638561e+01, 1.04387006e+01, 5.35395750e+01,\n",
       "       1.88694277e+01, 1.54374984e+01, 3.25280079e+01, 1.78326518e+02,\n",
       "       2.51376620e+01, 1.62699000e+01, 1.75350604e+01, 3.79066013e+01,\n",
       "       1.33483232e+01, 2.72125170e+01, 6.60027778e+00, 1.03037419e+01,\n",
       "       2.05914227e+01, 3.91161247e+01, 1.36703262e+02, 1.60905667e+01,\n",
       "       3.14326905e+01, 2.10858916e+01, 1.80609540e+01, 2.15559333e+01,\n",
       "       3.00145952e+01, 5.83276667e+01, 1.30950794e+01, 1.65597500e+01,\n",
       "       3.79066013e+01, 1.30414334e+01, 8.06591429e+01, 8.98196176e+00,\n",
       "       2.51376620e+01, 1.87233415e+01, 3.09863352e+01, 2.08300000e+01,\n",
       "       1.33483232e+01, 2.87258556e+01, 6.16424059e+00, 7.93198324e+00,\n",
       "       2.30185119e+01, 1.51015714e+01, 1.61790000e+01, 2.51240000e+01,\n",
       "       3.04356667e+01, 2.59034556e+01, 1.44546102e+01, 1.66898579e+01,\n",
       "       1.26314960e+02, 6.15067121e+01, 1.71198557e+01, 1.23566470e+01,\n",
       "       5.47411905e+01, 7.51541667e+00, 1.30414334e+01, 1.86849643e+01,\n",
       "       1.66898579e+01, 5.69652203e+00, 8.39425325e+00, 1.75350604e+01,\n",
       "       9.51509325e+00, 3.16878333e+01, 7.97191429e+01, 1.04387006e+01,\n",
       "       2.17550581e+01, 9.36654365e+00, 4.36378817e+00, 1.87233415e+01,\n",
       "       1.66898579e+01, 3.37142837e+01, 3.24941381e+01, 6.91539780e+00,\n",
       "       5.22515117e+01, 2.56624716e+01, 8.98196176e+00, 9.70384524e+00,\n",
       "       2.43329960e+01, 9.36654365e+00, 3.00727953e+01, 5.12898204e+00,\n",
       "       1.98486646e+01, 2.84829167e+01, 8.20632976e+00, 5.09397978e+00,\n",
       "       2.87258556e+01, 6.91539780e+00, 2.51376620e+01, 5.79207132e+00,\n",
       "       1.33483232e+01, 2.98349388e+01, 3.63246667e+01, 1.87233415e+01,\n",
       "       2.56624716e+01, 9.32460317e+00, 2.22768042e+01, 5.17713057e+00,\n",
       "       4.48436667e+00, 1.66898579e+01, 7.66593431e+00, 1.24675119e+01,\n",
       "       1.74056102e+01, 5.35395750e+01, 4.20586295e+00, 5.79207132e+00,\n",
       "       3.81440476e+01, 3.24941381e+01, 1.66898579e+01, 4.06444417e+01,\n",
       "       5.14487316e+01, 1.09154167e+01, 8.90349603e+00, 5.09997333e+01,\n",
       "       1.88694277e+01, 1.40081151e+01, 1.34403074e+01, 1.44546102e+01,\n",
       "       7.30392966e+00, 4.52564370e+00, 1.15585714e-01, 1.20989841e+01,\n",
       "       2.36681232e+01, 3.37127916e+01, 9.36654365e+00, 5.19579072e+01,\n",
       "       1.44546102e+01, 6.15067121e+01, 3.24941381e+01, 3.39676996e+01,\n",
       "       3.14326905e+01, 5.87317358e+00, 7.02854365e+00, 6.91539780e+00,\n",
       "       4.09284747e+01, 2.85641389e+01, 1.20584008e+01, 2.69765534e+01,\n",
       "       1.54577405e+01, 9.51509325e+00, 9.78267345e+00, 1.84705714e+01,\n",
       "       2.05914227e+01, 9.31613575e+00, 2.51376620e+01, 1.44546102e+01,\n",
       "       3.55022500e+01, 4.47063333e+01, 2.01036860e+01, 5.17713057e+00,\n",
       "       2.04887635e+01, 1.77347054e+01, 2.42234722e+01, 5.17713057e+00,\n",
       "       1.63293387e+01, 1.84724385e+01, 2.92458161e+01, 7.30392966e+00,\n",
       "       3.00727953e+01, 3.25280079e+01, 6.54527381e+01, 1.03037419e+01,\n",
       "       3.54970819e+01, 4.09284747e+01, 2.27210226e+01, 1.30779167e+01,\n",
       "       1.16138333e+01, 2.73728631e+01, 3.32006429e+01, 2.51376620e+01,\n",
       "       3.79066013e+01, 5.87317358e+00, 2.20329986e+01, 4.92764232e+00,\n",
       "       6.16424059e+00, 2.81502381e+01, 2.51376620e+01, 1.86849643e+01,\n",
       "       4.20586295e+00, 1.66898579e+01, 1.74972449e+01, 1.84724385e+01,\n",
       "       2.39064358e+01, 2.97200000e+01, 2.68010000e+01, 3.61034272e+01,\n",
       "       4.92764232e+00, 1.44546102e+01, 1.91520652e+01, 3.55022500e+01,\n",
       "       5.17713057e+00, 7.30392966e+00, 3.89550556e+01, 4.75269547e+01,\n",
       "       5.17713057e+00, 3.37127916e+01, 3.18055071e+01, 2.59034556e+01,\n",
       "       1.87233415e+01, 4.07597259e+01, 4.36378817e+00, 1.52899807e+01,\n",
       "       4.36378817e+00, 6.72739458e+01, 3.26025000e+01, 7.30392966e+00,\n",
       "       1.44546102e+01, 1.45349012e+01, 2.41229484e+01, 9.34575198e+01,\n",
       "       9.73616667e+00, 3.70105833e+01, 2.43329960e+01, 3.70121667e+01,\n",
       "       1.19437964e+01, 1.48009928e+01, 3.09863352e+01, 1.86849643e+01,\n",
       "       4.25190833e+01, 8.43576121e+01, 1.15585714e-01, 3.61034272e+01,\n",
       "       4.75269547e+01, 1.66898579e+01, 2.98349388e+01, 1.03037419e+01,\n",
       "       8.57915624e+00, 3.20903333e+01, 2.72609712e+01, 5.09397978e+00,\n",
       "       7.02854365e+00, 4.19716667e+00, 5.87317358e+00, 4.52564370e+00,\n",
       "       1.66898579e+01, 2.72125357e+01, 2.56624716e+01, 4.36378817e+00,\n",
       "       2.72125357e+01, 4.20586295e+00, 9.58557071e+00, 3.33459833e+01,\n",
       "       1.34403074e+01, 4.84549524e+01, 1.24675119e+01, 1.69892762e+01,\n",
       "       2.56624716e+01, 1.66898579e+01, 3.39359889e+01, 4.07887732e+01,\n",
       "       8.43576121e+01, 5.14487316e+01, 4.92764232e+00, 1.62699000e+01,\n",
       "       1.66898579e+01, 1.79848144e+01, 5.87317358e+00, 1.01985806e+01,\n",
       "       6.54527381e+01, 5.27165524e+00, 6.15067121e+01, 5.32476984e+00,\n",
       "       3.24941381e+01, 2.72125357e+01, 1.44546102e+01, 3.41265584e+01,\n",
       "       1.86849643e+01, 1.93201846e+01, 4.18994341e+01, 1.25752926e+01,\n",
       "       1.01975952e+01, 8.57915624e+00, 1.74056102e+01, 1.86849643e+01,\n",
       "       1.66898579e+01, 2.56624716e+01, 1.28650833e+01, 2.82710000e+01,\n",
       "       2.04887635e+01, 4.20586295e+00, 2.33777342e+02, 1.58359114e+01,\n",
       "       8.39425325e+00, 6.89606555e+01, 4.92764232e+00, 1.54374984e+01,\n",
       "       2.76863214e+01, 6.72739458e+01, 1.91520652e+01, 2.50818056e+01,\n",
       "       6.72739458e+01, 3.34305119e+01, 7.89801667e+01, 1.66898579e+01,\n",
       "       6.91539780e+00, 8.20632976e+00, 7.48691733e+01, 1.16138333e+01,\n",
       "       8.57915624e+00, 1.75174281e+01, 1.34403074e+01, 2.72125357e+01,\n",
       "       2.72125357e+01, 1.74056102e+01, 1.25752926e+01, 3.10015000e+01,\n",
       "       1.55160000e+01, 1.74056102e+01, 6.91539780e+00, 1.61790000e+01,\n",
       "       1.79335071e+01, 1.34403074e+01, 8.20632976e+00, 8.20632976e+00,\n",
       "       5.29988333e+01, 9.51509325e+00, 8.39425325e+00, 9.34575198e+01,\n",
       "       9.39688001e+00, 4.88466667e+01, 7.02500000e+01, 2.98349388e+01,\n",
       "       2.51376620e+01, 1.84705714e+01, 2.43329960e+01, 3.37127916e+01,\n",
       "       1.95867214e+01, 1.22174997e+01, 4.71288810e+01, 5.17713057e+00,\n",
       "       4.08228708e+01, 3.15045538e+01, 2.36672200e+01, 4.08228708e+01,\n",
       "       2.60070170e+01, 8.20632976e+00, 3.81440476e+01, 1.80611833e+01,\n",
       "       5.17713057e+00, 8.43576121e+01, 6.66565476e+01, 1.66898579e+01,\n",
       "       2.17930476e+01, 2.23589286e+01, 1.05652121e+01, 1.75350604e+01,\n",
       "       1.86849643e+01, 3.75620476e+01, 8.20632976e+00, 3.34305119e+01,\n",
       "       1.18757963e+01, 1.78051913e+01, 4.09732089e+00, 3.62334625e+01,\n",
       "       8.15911000e+00, 9.85606857e+00, 1.33483232e+01, 1.24675119e+01,\n",
       "       4.53155595e+01, 5.79207132e+00, 3.24941381e+01, 1.62699000e+01,\n",
       "       1.84724385e+01, 1.62304128e+01, 2.51376620e+01, 1.74056102e+01,\n",
       "       5.14487316e+01, 1.91520652e+01, 9.22229674e+00, 1.78051913e+01,\n",
       "       1.77347054e+01, 2.90517500e+01, 2.27210226e+01, 5.14487316e+01,\n",
       "       1.25752926e+01, 5.17713057e+00, 3.70121667e+01, 2.53705516e+01,\n",
       "       1.13444214e+01, 5.14487316e+01, 1.30779167e+01, 3.75620476e+01,\n",
       "       1.52177729e+01, 6.15067121e+01, 1.00982708e+02, 3.15045538e+01,\n",
       "       1.04675820e+02, 2.59034556e+01, 2.59034556e+01, 2.94186825e+01,\n",
       "       9.98506944e+00, 7.19454365e+00, 3.70105833e+01, 5.17713057e+00,\n",
       "       1.54374984e+01, 1.66898579e+01, 2.17550581e+01, 4.51920833e+01,\n",
       "       3.18055071e+01, 2.59034556e+01, 1.66898579e+01, 6.50756866e+00,\n",
       "       2.43329960e+01, 1.16464213e+01, 1.52177729e+01, 8.20632976e+00,\n",
       "       1.91520652e+01, 8.06591429e+01, 1.79518952e+01, 5.14487316e+01])"
      ]
     },
     "execution_count": 32,
     "metadata": {},
     "output_type": "execute_result"
    }
   ],
   "source": [
    "rf.predict(X_te)"
   ]
  },
  {
   "cell_type": "code",
   "execution_count": 33,
   "id": "7f40150e",
   "metadata": {},
   "outputs": [
    {
     "data": {
      "text/plain": [
       "350     48.00\n",
       "1573     4.60\n",
       "1657    23.50\n",
       "280     20.00\n",
       "1149    15.00\n",
       "        ...  \n",
       "1939     9.00\n",
       "1941    17.50\n",
       "321     90.00\n",
       "1254    18.12\n",
       "1830    64.10\n",
       "Name: modal_price, Length: 448, dtype: float64"
      ]
     },
     "execution_count": 33,
     "metadata": {},
     "output_type": "execute_result"
    }
   ],
   "source": [
    "Y_te"
   ]
  },
  {
   "cell_type": "code",
   "execution_count": 35,
   "id": "4ad5c066",
   "metadata": {},
   "outputs": [],
   "source": [
    "df = pd.read_csv(\"D:/machine learning/datasets/agridata_csv_202110311352.csv\")"
   ]
  },
  {
   "cell_type": "code",
   "execution_count": 36,
   "id": "b094d7d9",
   "metadata": {},
   "outputs": [
    {
     "name": "stdout",
     "output_type": "stream",
     "text": [
      "<class 'pandas.core.frame.DataFrame'>\n",
      "RangeIndex: 836977 entries, 0 to 836976\n",
      "Data columns (total 8 columns):\n",
      " #   Column          Non-Null Count   Dtype  \n",
      "---  ------          --------------   -----  \n",
      " 0   commodity_name  836977 non-null  object \n",
      " 1   state           836977 non-null  object \n",
      " 2   district        836977 non-null  object \n",
      " 3   market          836977 non-null  object \n",
      " 4   min_price       836976 non-null  float64\n",
      " 5   max_price       836976 non-null  float64\n",
      " 6   modal_price     836976 non-null  float64\n",
      " 7   date            836976 non-null  object \n",
      "dtypes: float64(3), object(5)\n",
      "memory usage: 51.1+ MB\n"
     ]
    }
   ],
   "source": [
    "df.info()"
   ]
  },
  {
   "cell_type": "code",
   "execution_count": 37,
   "id": "d3d15335",
   "metadata": {},
   "outputs": [
    {
     "data": {
      "text/html": [
       "<div>\n",
       "<style scoped>\n",
       "    .dataframe tbody tr th:only-of-type {\n",
       "        vertical-align: middle;\n",
       "    }\n",
       "\n",
       "    .dataframe tbody tr th {\n",
       "        vertical-align: top;\n",
       "    }\n",
       "\n",
       "    .dataframe thead th {\n",
       "        text-align: right;\n",
       "    }\n",
       "</style>\n",
       "<table border=\"1\" class=\"dataframe\">\n",
       "  <thead>\n",
       "    <tr style=\"text-align: right;\">\n",
       "      <th></th>\n",
       "      <th>commodity_name</th>\n",
       "      <th>state</th>\n",
       "      <th>district</th>\n",
       "      <th>market</th>\n",
       "      <th>min_price</th>\n",
       "      <th>max_price</th>\n",
       "      <th>modal_price</th>\n",
       "      <th>date</th>\n",
       "    </tr>\n",
       "  </thead>\n",
       "  <tbody>\n",
       "    <tr>\n",
       "      <th>0</th>\n",
       "      <td>Ajwan</td>\n",
       "      <td>Gujarat</td>\n",
       "      <td>Amreli</td>\n",
       "      <td>Amreli</td>\n",
       "      <td>63.25</td>\n",
       "      <td>79.55</td>\n",
       "      <td>79.55</td>\n",
       "      <td>22-05-19</td>\n",
       "    </tr>\n",
       "    <tr>\n",
       "      <th>1</th>\n",
       "      <td>Ajwan</td>\n",
       "      <td>Gujarat</td>\n",
       "      <td>Banaskanth</td>\n",
       "      <td>Dhanera</td>\n",
       "      <td>80.05</td>\n",
       "      <td>80.05</td>\n",
       "      <td>80.05</td>\n",
       "      <td>22-05-19</td>\n",
       "    </tr>\n",
       "    <tr>\n",
       "      <th>2</th>\n",
       "      <td>Ajwan</td>\n",
       "      <td>Gujarat</td>\n",
       "      <td>Jamnagar</td>\n",
       "      <td>Jamnagar</td>\n",
       "      <td>90.00</td>\n",
       "      <td>155.00</td>\n",
       "      <td>122.50</td>\n",
       "      <td>22-05-19</td>\n",
       "    </tr>\n",
       "    <tr>\n",
       "      <th>3</th>\n",
       "      <td>Ajwan</td>\n",
       "      <td>Gujarat</td>\n",
       "      <td>Mehsana</td>\n",
       "      <td>Kadi</td>\n",
       "      <td>94.50</td>\n",
       "      <td>112.50</td>\n",
       "      <td>107.00</td>\n",
       "      <td>22-05-19</td>\n",
       "    </tr>\n",
       "    <tr>\n",
       "      <th>4</th>\n",
       "      <td>Ajwan</td>\n",
       "      <td>Gujarat</td>\n",
       "      <td>Mehsana</td>\n",
       "      <td>Unjha</td>\n",
       "      <td>21.25</td>\n",
       "      <td>148.50</td>\n",
       "      <td>99.75</td>\n",
       "      <td>22-05-19</td>\n",
       "    </tr>\n",
       "  </tbody>\n",
       "</table>\n",
       "</div>"
      ],
      "text/plain": [
       "  commodity_name    state    district    market  min_price  max_price  \\\n",
       "0          Ajwan  Gujarat      Amreli    Amreli      63.25      79.55   \n",
       "1          Ajwan  Gujarat  Banaskanth   Dhanera      80.05      80.05   \n",
       "2          Ajwan  Gujarat    Jamnagar  Jamnagar      90.00     155.00   \n",
       "3          Ajwan  Gujarat     Mehsana      Kadi      94.50     112.50   \n",
       "4          Ajwan  Gujarat     Mehsana     Unjha      21.25     148.50   \n",
       "\n",
       "   modal_price      date  \n",
       "0        79.55  22-05-19  \n",
       "1        80.05  22-05-19  \n",
       "2       122.50  22-05-19  \n",
       "3       107.00  22-05-19  \n",
       "4        99.75  22-05-19  "
      ]
     },
     "execution_count": 37,
     "metadata": {},
     "output_type": "execute_result"
    }
   ],
   "source": [
    "df.head()"
   ]
  },
  {
   "cell_type": "code",
   "execution_count": 38,
   "id": "2d202474",
   "metadata": {},
   "outputs": [],
   "source": [
    "df = df.dropna()"
   ]
  },
  {
   "cell_type": "code",
   "execution_count": 39,
   "id": "d9d6a218",
   "metadata": {},
   "outputs": [
    {
     "name": "stdout",
     "output_type": "stream",
     "text": [
      "<class 'pandas.core.frame.DataFrame'>\n",
      "Int64Index: 836976 entries, 0 to 836976\n",
      "Data columns (total 8 columns):\n",
      " #   Column          Non-Null Count   Dtype  \n",
      "---  ------          --------------   -----  \n",
      " 0   commodity_name  836976 non-null  object \n",
      " 1   state           836976 non-null  object \n",
      " 2   district        836976 non-null  object \n",
      " 3   market          836976 non-null  object \n",
      " 4   min_price       836976 non-null  float64\n",
      " 5   max_price       836976 non-null  float64\n",
      " 6   modal_price     836976 non-null  float64\n",
      " 7   date            836976 non-null  object \n",
      "dtypes: float64(3), object(5)\n",
      "memory usage: 57.5+ MB\n"
     ]
    }
   ],
   "source": [
    "df.info()"
   ]
  },
  {
   "cell_type": "code",
   "execution_count": 40,
   "id": "3418680f",
   "metadata": {},
   "outputs": [],
   "source": [
    "X = df.iloc[:,:-2]"
   ]
  },
  {
   "cell_type": "code",
   "execution_count": 41,
   "id": "491858f4",
   "metadata": {},
   "outputs": [
    {
     "data": {
      "text/html": [
       "<div>\n",
       "<style scoped>\n",
       "    .dataframe tbody tr th:only-of-type {\n",
       "        vertical-align: middle;\n",
       "    }\n",
       "\n",
       "    .dataframe tbody tr th {\n",
       "        vertical-align: top;\n",
       "    }\n",
       "\n",
       "    .dataframe thead th {\n",
       "        text-align: right;\n",
       "    }\n",
       "</style>\n",
       "<table border=\"1\" class=\"dataframe\">\n",
       "  <thead>\n",
       "    <tr style=\"text-align: right;\">\n",
       "      <th></th>\n",
       "      <th>commodity_name</th>\n",
       "      <th>state</th>\n",
       "      <th>district</th>\n",
       "      <th>market</th>\n",
       "      <th>min_price</th>\n",
       "      <th>max_price</th>\n",
       "    </tr>\n",
       "  </thead>\n",
       "  <tbody>\n",
       "    <tr>\n",
       "      <th>0</th>\n",
       "      <td>Ajwan</td>\n",
       "      <td>Gujarat</td>\n",
       "      <td>Amreli</td>\n",
       "      <td>Amreli</td>\n",
       "      <td>63.25</td>\n",
       "      <td>79.55</td>\n",
       "    </tr>\n",
       "    <tr>\n",
       "      <th>1</th>\n",
       "      <td>Ajwan</td>\n",
       "      <td>Gujarat</td>\n",
       "      <td>Banaskanth</td>\n",
       "      <td>Dhanera</td>\n",
       "      <td>80.05</td>\n",
       "      <td>80.05</td>\n",
       "    </tr>\n",
       "    <tr>\n",
       "      <th>2</th>\n",
       "      <td>Ajwan</td>\n",
       "      <td>Gujarat</td>\n",
       "      <td>Jamnagar</td>\n",
       "      <td>Jamnagar</td>\n",
       "      <td>90.00</td>\n",
       "      <td>155.00</td>\n",
       "    </tr>\n",
       "    <tr>\n",
       "      <th>3</th>\n",
       "      <td>Ajwan</td>\n",
       "      <td>Gujarat</td>\n",
       "      <td>Mehsana</td>\n",
       "      <td>Kadi</td>\n",
       "      <td>94.50</td>\n",
       "      <td>112.50</td>\n",
       "    </tr>\n",
       "    <tr>\n",
       "      <th>4</th>\n",
       "      <td>Ajwan</td>\n",
       "      <td>Gujarat</td>\n",
       "      <td>Mehsana</td>\n",
       "      <td>Unjha</td>\n",
       "      <td>21.25</td>\n",
       "      <td>148.50</td>\n",
       "    </tr>\n",
       "    <tr>\n",
       "      <th>...</th>\n",
       "      <td>...</td>\n",
       "      <td>...</td>\n",
       "      <td>...</td>\n",
       "      <td>...</td>\n",
       "      <td>...</td>\n",
       "      <td>...</td>\n",
       "    </tr>\n",
       "    <tr>\n",
       "      <th>836972</th>\n",
       "      <td>Arhar (Tur/Red Gram)(Whole)</td>\n",
       "      <td>Gujarat</td>\n",
       "      <td>Bharuch</td>\n",
       "      <td>Jambusar(Kaavi)</td>\n",
       "      <td>5100.00</td>\n",
       "      <td>5500.00</td>\n",
       "    </tr>\n",
       "    <tr>\n",
       "      <th>836973</th>\n",
       "      <td>Arhar (Tur/Red Gram)(Whole)</td>\n",
       "      <td>Gujarat</td>\n",
       "      <td>Rajkot</td>\n",
       "      <td>Jasdan</td>\n",
       "      <td>3500.00</td>\n",
       "      <td>5500.00</td>\n",
       "    </tr>\n",
       "    <tr>\n",
       "      <th>836974</th>\n",
       "      <td>Arhar (Tur/Red Gram)(Whole)</td>\n",
       "      <td>Gujarat</td>\n",
       "      <td>Rajkot</td>\n",
       "      <td>Rajkot</td>\n",
       "      <td>5300.00</td>\n",
       "      <td>6225.00</td>\n",
       "    </tr>\n",
       "    <tr>\n",
       "      <th>836975</th>\n",
       "      <td>Arhar (Tur/Red Gram)(Whole)</td>\n",
       "      <td>Gujarat</td>\n",
       "      <td>Junagarh</td>\n",
       "      <td>Visavadar</td>\n",
       "      <td>4750.00</td>\n",
       "      <td>5750.00</td>\n",
       "    </tr>\n",
       "    <tr>\n",
       "      <th>836976</th>\n",
       "      <td>Arhar (Tur/Red Gram)(Whole)</td>\n",
       "      <td>Kerala</td>\n",
       "      <td>Kasargod</td>\n",
       "      <td>Neeleswaram</td>\n",
       "      <td>10500.00</td>\n",
       "      <td>11500.00</td>\n",
       "    </tr>\n",
       "  </tbody>\n",
       "</table>\n",
       "<p>836976 rows × 6 columns</p>\n",
       "</div>"
      ],
      "text/plain": [
       "                     commodity_name    state    district           market  \\\n",
       "0                             Ajwan  Gujarat      Amreli           Amreli   \n",
       "1                             Ajwan  Gujarat  Banaskanth          Dhanera   \n",
       "2                             Ajwan  Gujarat    Jamnagar         Jamnagar   \n",
       "3                             Ajwan  Gujarat     Mehsana             Kadi   \n",
       "4                             Ajwan  Gujarat     Mehsana            Unjha   \n",
       "...                             ...      ...         ...              ...   \n",
       "836972  Arhar (Tur/Red Gram)(Whole)  Gujarat     Bharuch  Jambusar(Kaavi)   \n",
       "836973  Arhar (Tur/Red Gram)(Whole)  Gujarat      Rajkot           Jasdan   \n",
       "836974  Arhar (Tur/Red Gram)(Whole)  Gujarat      Rajkot           Rajkot   \n",
       "836975  Arhar (Tur/Red Gram)(Whole)  Gujarat    Junagarh        Visavadar   \n",
       "836976  Arhar (Tur/Red Gram)(Whole)   Kerala    Kasargod      Neeleswaram   \n",
       "\n",
       "        min_price  max_price  \n",
       "0           63.25      79.55  \n",
       "1           80.05      80.05  \n",
       "2           90.00     155.00  \n",
       "3           94.50     112.50  \n",
       "4           21.25     148.50  \n",
       "...           ...        ...  \n",
       "836972    5100.00    5500.00  \n",
       "836973    3500.00    5500.00  \n",
       "836974    5300.00    6225.00  \n",
       "836975    4750.00    5750.00  \n",
       "836976   10500.00   11500.00  \n",
       "\n",
       "[836976 rows x 6 columns]"
      ]
     },
     "execution_count": 41,
     "metadata": {},
     "output_type": "execute_result"
    }
   ],
   "source": []
  },
  {
   "cell_type": "code",
   "execution_count": 42,
   "id": "a2d924cb",
   "metadata": {},
   "outputs": [],
   "source": [
    "X['commodity_name'] = le.fit_transform(X['commodity_name'])\n",
    "X['state'] = le.fit_transform(X['state'])\n",
    "X['district'] = le.fit_transform(X['district'])\n",
    "X['market'] = le.fit_transform(X['market'])"
   ]
  },
  {
   "cell_type": "code",
   "execution_count": 45,
   "id": "c4d8ead5",
   "metadata": {},
   "outputs": [],
   "source": [
    "Y = df['modal_price']"
   ]
  },
  {
   "cell_type": "code",
   "execution_count": 48,
   "id": "386d6f00",
   "metadata": {},
   "outputs": [],
   "source": [
    "X_train,X_test,Y_train,Y_test = train_test_split(X,Y,test_size=0.3,random_state=42)"
   ]
  },
  {
   "cell_type": "code",
   "execution_count": 50,
   "id": "d0aff48b",
   "metadata": {},
   "outputs": [
    {
     "data": {
      "text/plain": [
       "RandomForestRegressor()"
      ]
     },
     "execution_count": 50,
     "metadata": {},
     "output_type": "execute_result"
    }
   ],
   "source": [
    "rf.fit(X_train,Y_train)"
   ]
  },
  {
   "cell_type": "code",
   "execution_count": 51,
   "id": "f8c14b33",
   "metadata": {},
   "outputs": [
    {
     "data": {
      "text/plain": [
       "0.9707971383764712"
      ]
     },
     "execution_count": 51,
     "metadata": {},
     "output_type": "execute_result"
    }
   ],
   "source": [
    "rf.score(X_test,Y_test)"
   ]
  },
  {
   "cell_type": "code",
   "execution_count": 54,
   "id": "08d9c1c6",
   "metadata": {},
   "outputs": [],
   "source": [
    "model = xgb_model()"
   ]
  },
  {
   "cell_type": "code",
   "execution_count": 55,
   "id": "3fd7624e",
   "metadata": {},
   "outputs": [
    {
     "data": {
      "text/plain": [
       "Pipeline(steps=[('scaler', StandardScaler()),\n",
       "                ('model',\n",
       "                 XGBRegressor(base_score=0.5, booster='gbtree',\n",
       "                              colsample_bylevel=1, colsample_bynode=1,\n",
       "                              colsample_bytree=0.7500000000000002,\n",
       "                              enable_categorical=False, gamma=0, gpu_id=-1,\n",
       "                              importance_type=None, interaction_constraints='',\n",
       "                              learning_rate=0.1, max_delta_step=0, max_depth=13,\n",
       "                              min_child_weight=1, missing=nan,\n",
       "                              monotone_constraints='()', n_estimators=100,\n",
       "                              n_jobs=8, num_parallel_tree=1, predictor='auto',\n",
       "                              random_state=0, reg_alpha=0, reg_lambda=1,\n",
       "                              scale_pos_weight=1, subsample=0.05,\n",
       "                              tree_method='exact', validate_parameters=1,\n",
       "                              verbosity=None))])"
      ]
     },
     "execution_count": 55,
     "metadata": {},
     "output_type": "execute_result"
    }
   ],
   "source": [
    "model.fit(X_train,Y_train)"
   ]
  },
  {
   "cell_type": "code",
   "execution_count": 56,
   "id": "d75b54ac",
   "metadata": {},
   "outputs": [
    {
     "data": {
      "text/plain": [
       "0.9391934158044104"
      ]
     },
     "execution_count": 56,
     "metadata": {},
     "output_type": "execute_result"
    }
   ],
   "source": [
    "model.score(X_test,Y_test)"
   ]
  },
  {
   "cell_type": "code",
   "execution_count": 59,
   "id": "e514fe1f",
   "metadata": {},
   "outputs": [],
   "source": [
    "le_c = LabelEncoder()\n",
    "le_s = LabelEncoder()\n",
    "le_d = LabelEncoder()\n",
    "le_m = LabelEncoder()"
   ]
  },
  {
   "cell_type": "code",
   "execution_count": 60,
   "id": "12d18388",
   "metadata": {},
   "outputs": [],
   "source": [
    "deploy = {'model':rf , 'le_c': le_c,'le_s':le_s,'le_d':le_d,'le_m':le_m}\n",
    "with open('saved_steps.pkl','wb') as file:\n",
    "    pickle.dump(deploy,file)"
   ]
  },
  {
   "cell_type": "code",
   "execution_count": 61,
   "id": "522b96db",
   "metadata": {},
   "outputs": [],
   "source": [
    "with open('saved_steps.pkl','rb') as file:\n",
    "    mod = pickle.load(file)"
   ]
  },
  {
   "cell_type": "code",
   "execution_count": 78,
   "id": "e0a9a48e",
   "metadata": {},
   "outputs": [
    {
     "data": {
      "text/plain": [
       "array(['Amreli', 'Dhanera', 'Jamnagar', ..., 'Hingoli(Kanegoan Naka)',\n",
       "       'Jalgaon Jamod(Aasalgaon)', 'Nagarkurnool'], dtype=object)"
      ]
     },
     "execution_count": 78,
     "metadata": {},
     "output_type": "execute_result"
    }
   ],
   "source": [
    "df['market'].unique()"
   ]
  },
  {
   "cell_type": "code",
   "execution_count": null,
   "id": "250e77d6",
   "metadata": {},
   "outputs": [],
   "source": []
  }
 ],
 "metadata": {
  "kernelspec": {
   "display_name": "Python 3 (ipykernel)",
   "language": "python",
   "name": "python3"
  },
  "language_info": {
   "codemirror_mode": {
    "name": "ipython",
    "version": 3
   },
   "file_extension": ".py",
   "mimetype": "text/x-python",
   "name": "python",
   "nbconvert_exporter": "python",
   "pygments_lexer": "ipython3",
   "version": "3.9.6"
  }
 },
 "nbformat": 4,
 "nbformat_minor": 5
}
